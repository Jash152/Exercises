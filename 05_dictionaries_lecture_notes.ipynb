{
  "nbformat": 4,
  "nbformat_minor": 0,
  "metadata": {
    "kernelspec": {
      "display_name": "Python 3",
      "language": "python",
      "name": "python3"
    },
    "language_info": {
      "codemirror_mode": {
        "name": "ipython",
        "version": 3
      },
      "file_extension": ".py",
      "mimetype": "text/x-python",
      "name": "python",
      "nbconvert_exporter": "python",
      "pygments_lexer": "ipython3",
      "version": "3.7.4"
    },
    "colab": {
      "name": "05_dictionaries_lecture_notes.ipynb",
      "provenance": [],
      "include_colab_link": true
    }
  },
  "cells": [
    {
      "cell_type": "markdown",
      "metadata": {
        "id": "view-in-github",
        "colab_type": "text"
      },
      "source": [
        "<a href=\"https://colab.research.google.com/github/Jash152/Exercises/blob/master/05_dictionaries_lecture_notes.ipynb\" target=\"_parent\"><img src=\"https://colab.research.google.com/assets/colab-badge.svg\" alt=\"Open In Colab\"/></a>"
      ]
    },
    {
      "cell_type": "markdown",
      "metadata": {
        "id": "ubxwvjcoCf3q"
      },
      "source": [
        "# Dictionaries\n",
        "\n",
        "Elements of Data Science\n",
        "\n",
        "by [Allen Downey](https://allendowney.com)\n",
        "\n",
        "[MIT License](https://opensource.org/licenses/MIT)\n",
        "\n",
        "### Goals\n",
        "\n",
        "In the previous notebook we used a `for` loop to read a file and count the words.  In this notebook, you'll learn about a new type called a \"dictionary\", and we will use it to count the number of unique words and the number of times each one appears.\n",
        "\n",
        "Along the way, you will also see how to use an index to select an element from a sequence (tuple, list, or array).  And you will learn a little about Unicode, which is used to represent letters, numbers, and punctuation for almost every language in the world."
      ]
    },
    {
      "cell_type": "markdown",
      "metadata": {
        "id": "OjtS8B4SCf3r"
      },
      "source": [
        "## Indexing\n",
        "\n",
        "Suppose you have a variable named `t` that refers to a list or tuple.\n",
        "You can select an element using the bracket operator, `[]`.  \n",
        "\n",
        "For example, here's a tuple of strings:"
      ]
    },
    {
      "cell_type": "code",
      "metadata": {
        "id": "kkCdOCGSCf3s"
      },
      "source": [
        "t = 'zero', 'one', 'two'"
      ],
      "execution_count": null,
      "outputs": []
    },
    {
      "cell_type": "markdown",
      "metadata": {
        "id": "TRaFbxn4Cf3v"
      },
      "source": [
        "To select the first element, we put `0` in brackets:"
      ]
    },
    {
      "cell_type": "code",
      "metadata": {
        "id": "tHiNtkwOCf3w",
        "outputId": "3ffa00de-e847-460b-9579-71280b24b296",
        "colab": {
          "base_uri": "https://localhost:8080/",
          "height": 36
        }
      },
      "source": [
        "t[0]"
      ],
      "execution_count": null,
      "outputs": [
        {
          "output_type": "execute_result",
          "data": {
            "application/vnd.google.colaboratory.intrinsic+json": {
              "type": "string"
            },
            "text/plain": [
              "'zero'"
            ]
          },
          "metadata": {
            "tags": []
          },
          "execution_count": 2
        }
      ]
    },
    {
      "cell_type": "markdown",
      "metadata": {
        "id": "VmI-nP-UCf3z"
      },
      "source": [
        "To select the second element, we put `1` in brackets:"
      ]
    },
    {
      "cell_type": "code",
      "metadata": {
        "id": "HCuKgGnfCf30",
        "outputId": "ecbf4943-5af3-48bf-cc62-8817f97ae2de",
        "colab": {
          "base_uri": "https://localhost:8080/",
          "height": 36
        }
      },
      "source": [
        "t[1]"
      ],
      "execution_count": null,
      "outputs": [
        {
          "output_type": "execute_result",
          "data": {
            "application/vnd.google.colaboratory.intrinsic+json": {
              "type": "string"
            },
            "text/plain": [
              "'one'"
            ]
          },
          "metadata": {
            "tags": []
          },
          "execution_count": 3
        }
      ]
    },
    {
      "cell_type": "markdown",
      "metadata": {
        "id": "LgL9tT4_Cf33"
      },
      "source": [
        "\n",
        "To select the third element, we put `2` in brackets:"
      ]
    },
    {
      "cell_type": "code",
      "metadata": {
        "id": "IxfFUr50Cf33",
        "outputId": "e49e2aa1-99d5-494c-e26e-684b92007e63",
        "colab": {
          "base_uri": "https://localhost:8080/",
          "height": 36
        }
      },
      "source": [
        "t[2]"
      ],
      "execution_count": null,
      "outputs": [
        {
          "output_type": "execute_result",
          "data": {
            "application/vnd.google.colaboratory.intrinsic+json": {
              "type": "string"
            },
            "text/plain": [
              "'two'"
            ]
          },
          "metadata": {
            "tags": []
          },
          "execution_count": 4
        }
      ]
    },
    {
      "cell_type": "markdown",
      "metadata": {
        "id": "716dnbCmCf36"
      },
      "source": [
        "The number in brackets is called an \"index\" because it indicates which element we want.\n",
        "\n",
        "Tuples and lists use [zero-based numbering](https://en.wikipedia.org/wiki/Zero-based_numbering); that is, the index of the first element is 0.  Some other programming languages use one-based numbering.  There are pros and cons of both systems.\n",
        "\n",
        "The index in brackets can also be a variable:"
      ]
    },
    {
      "cell_type": "code",
      "metadata": {
        "id": "npNtgroJCf37",
        "outputId": "4d8b2d03-811f-426b-82ac-61484fd1104f",
        "colab": {
          "base_uri": "https://localhost:8080/",
          "height": 36
        }
      },
      "source": [
        "i = 1\n",
        "t[i]"
      ],
      "execution_count": null,
      "outputs": [
        {
          "output_type": "execute_result",
          "data": {
            "application/vnd.google.colaboratory.intrinsic+json": {
              "type": "string"
            },
            "text/plain": [
              "'one'"
            ]
          },
          "metadata": {
            "tags": []
          },
          "execution_count": 5
        }
      ]
    },
    {
      "cell_type": "markdown",
      "metadata": {
        "id": "tvwukjIhCf3-"
      },
      "source": [
        "Or an expression with variables, values, and operators:"
      ]
    },
    {
      "cell_type": "code",
      "metadata": {
        "id": "OQD1906rCf3-",
        "outputId": "92527fd8-0efd-4664-b9d2-689fcf14c66c",
        "colab": {
          "base_uri": "https://localhost:8080/",
          "height": 36
        }
      },
      "source": [
        "t[i+1]"
      ],
      "execution_count": null,
      "outputs": [
        {
          "output_type": "execute_result",
          "data": {
            "application/vnd.google.colaboratory.intrinsic+json": {
              "type": "string"
            },
            "text/plain": [
              "'two'"
            ]
          },
          "metadata": {
            "tags": []
          },
          "execution_count": 6
        }
      ]
    },
    {
      "cell_type": "markdown",
      "metadata": {
        "id": "f1Ic3GBKCf4C"
      },
      "source": [
        "But if the index goes past the end of the list or tuple, you get an error:"
      ]
    },
    {
      "cell_type": "code",
      "metadata": {
        "id": "OLQbOTSaCf4D",
        "outputId": "2a0c3353-5faa-44e5-91d8-06e921afd7af",
        "colab": {
          "base_uri": "https://localhost:8080/",
          "height": 171
        }
      },
      "source": [
        "t[3]"
      ],
      "execution_count": null,
      "outputs": [
        {
          "output_type": "error",
          "ename": "IndexError",
          "evalue": "ignored",
          "traceback": [
            "\u001b[0;31m---------------------------------------------------------------------------\u001b[0m",
            "\u001b[0;31mIndexError\u001b[0m                                Traceback (most recent call last)",
            "\u001b[0;32m<ipython-input-7-ffabd0b4a246>\u001b[0m in \u001b[0;36m<module>\u001b[0;34m()\u001b[0m\n\u001b[0;32m----> 1\u001b[0;31m \u001b[0mt\u001b[0m\u001b[0;34m[\u001b[0m\u001b[0;36m3\u001b[0m\u001b[0;34m]\u001b[0m\u001b[0;34m\u001b[0m\u001b[0;34m\u001b[0m\u001b[0m\n\u001b[0m",
            "\u001b[0;31mIndexError\u001b[0m: tuple index out of range"
          ]
        }
      ]
    },
    {
      "cell_type": "markdown",
      "metadata": {
        "id": "Go-ErEp9Cf4G"
      },
      "source": [
        "The index has to be an integer; if it is any other type, you get an error."
      ]
    },
    {
      "cell_type": "code",
      "metadata": {
        "id": "4cG_R2hfCf4G",
        "outputId": "6c69a4d0-de65-4fe0-9dca-76973338965c",
        "colab": {
          "base_uri": "https://localhost:8080/",
          "height": 171
        }
      },
      "source": [
        "t[1.5]"
      ],
      "execution_count": null,
      "outputs": [
        {
          "output_type": "error",
          "ename": "TypeError",
          "evalue": "ignored",
          "traceback": [
            "\u001b[0;31m---------------------------------------------------------------------------\u001b[0m",
            "\u001b[0;31mTypeError\u001b[0m                                 Traceback (most recent call last)",
            "\u001b[0;32m<ipython-input-8-9db65ba33973>\u001b[0m in \u001b[0;36m<module>\u001b[0;34m()\u001b[0m\n\u001b[0;32m----> 1\u001b[0;31m \u001b[0mt\u001b[0m\u001b[0;34m[\u001b[0m\u001b[0;36m1.5\u001b[0m\u001b[0;34m]\u001b[0m\u001b[0;34m\u001b[0m\u001b[0;34m\u001b[0m\u001b[0m\n\u001b[0m",
            "\u001b[0;31mTypeError\u001b[0m: tuple indices must be integers or slices, not float"
          ]
        }
      ]
    },
    {
      "cell_type": "code",
      "metadata": {
        "id": "R9GN5mINCf4J",
        "outputId": "48ee6a72-1e67-402a-ac18-dda1137e72f6",
        "colab": {
          "base_uri": "https://localhost:8080/",
          "height": 174
        }
      },
      "source": [
        "t['index']"
      ],
      "execution_count": null,
      "outputs": [
        {
          "output_type": "error",
          "ename": "TypeError",
          "evalue": "ignored",
          "traceback": [
            "\u001b[0;31m---------------------------------------------------------------------------\u001b[0m",
            "\u001b[0;31mTypeError\u001b[0m                                 Traceback (most recent call last)",
            "\u001b[0;32m<ipython-input-9-261e48520458>\u001b[0m in \u001b[0;36m<module>\u001b[0;34m()\u001b[0m\n\u001b[0;32m----> 1\u001b[0;31m \u001b[0mt\u001b[0m\u001b[0;34m[\u001b[0m\u001b[0;34m'index'\u001b[0m\u001b[0;34m]\u001b[0m\u001b[0;34m\u001b[0m\u001b[0;34m\u001b[0m\u001b[0m\n\u001b[0m",
            "\u001b[0;31mTypeError\u001b[0m: tuple indices must be integers or slices, not str"
          ]
        }
      ]
    },
    {
      "cell_type": "markdown",
      "metadata": {
        "id": "kRdC5nhdCf4L"
      },
      "source": [
        "**Exercise:** You can use negative integers as indices.  Try using `-1` and `-2` as indices, and see if you can figure out what they do. "
      ]
    },
    {
      "cell_type": "code",
      "metadata": {
        "id": "dtK0PQnkCf4M"
      },
      "source": [
        "# Solution goes here"
      ],
      "execution_count": null,
      "outputs": []
    },
    {
      "cell_type": "code",
      "metadata": {
        "id": "BFPE6Ed0Cf4P"
      },
      "source": [
        "# Solution goes here"
      ],
      "execution_count": null,
      "outputs": []
    },
    {
      "cell_type": "markdown",
      "metadata": {
        "id": "8FVXebSRCf4S"
      },
      "source": [
        "## Dictionaries\n",
        "\n",
        "A dictionary is similar to a tuple or list, but in a dictionary, the index can be almost any type, not just an integer.\n",
        "\n",
        "We can create an empty dictionary like this:"
      ]
    },
    {
      "cell_type": "code",
      "metadata": {
        "id": "so_7Z6DXCf4S"
      },
      "source": [
        "d = {}"
      ],
      "execution_count": null,
      "outputs": []
    },
    {
      "cell_type": "markdown",
      "metadata": {
        "id": "sLTbV0s0Cf4V"
      },
      "source": [
        "Then we can add elements like this:"
      ]
    },
    {
      "cell_type": "code",
      "metadata": {
        "id": "e9C6j2q9Cf4V"
      },
      "source": [
        "d['one'] = 1\n",
        "d['two'] = 2"
      ],
      "execution_count": null,
      "outputs": []
    },
    {
      "cell_type": "markdown",
      "metadata": {
        "id": "Ur3-gXVYCf4Y"
      },
      "source": [
        "If you display the dictionary, it shows each index and the corresponding value. "
      ]
    },
    {
      "cell_type": "code",
      "metadata": {
        "id": "K62KS35CCf4Z",
        "outputId": "b83615ea-1b18-47b7-d38f-cf4205cd5875",
        "colab": {
          "base_uri": "https://localhost:8080/",
          "height": 36
        }
      },
      "source": [
        "d"
      ],
      "execution_count": null,
      "outputs": [
        {
          "output_type": "execute_result",
          "data": {
            "text/plain": [
              "{'one': 1, 'two': 2}"
            ]
          },
          "metadata": {
            "tags": []
          },
          "execution_count": 17
        }
      ]
    },
    {
      "cell_type": "markdown",
      "metadata": {
        "id": "Bblpvg2TCf4b"
      },
      "source": [
        "Instead of creating an empty dictionary and then adding elements, you can create a dictionary and specify the elements at the same time:"
      ]
    },
    {
      "cell_type": "code",
      "metadata": {
        "id": "MvIlciT6Cf4d",
        "outputId": "402cf4ff-05ef-45b7-f0a6-1d97a65e73ee",
        "colab": {
          "base_uri": "https://localhost:8080/",
          "height": 36
        }
      },
      "source": [
        "d = {'one': 1, 'two': 2, 'three': 3}\n",
        "d"
      ],
      "execution_count": null,
      "outputs": [
        {
          "output_type": "execute_result",
          "data": {
            "text/plain": [
              "{'one': 1, 'three': 3, 'two': 2}"
            ]
          },
          "metadata": {
            "tags": []
          },
          "execution_count": 18
        }
      ]
    },
    {
      "cell_type": "markdown",
      "metadata": {
        "id": "UAN6FbV9Cf4g"
      },
      "source": [
        "When we are talking about dictionaries, an index is usually called a \"key\".  In this example, the keys are strings and the corresponding values are integers.\n",
        "\n",
        "A dictionary is also called a \"map\", because it represents a mapping, in the sense of a correspondence, between keys and values.  So we might say that this dictionary \"maps from\" English number names to the corresponding integers.\n",
        "\n",
        "You can use the bracket operator to select an element from a dictionary, like this:"
      ]
    },
    {
      "cell_type": "code",
      "metadata": {
        "id": "3LWnqlEmCf4g",
        "outputId": "18a84374-db50-4c8b-c7f3-7f4923cfec40",
        "colab": {
          "base_uri": "https://localhost:8080/",
          "height": 36
        }
      },
      "source": [
        "d['two']"
      ],
      "execution_count": null,
      "outputs": [
        {
          "output_type": "execute_result",
          "data": {
            "text/plain": [
              "2"
            ]
          },
          "metadata": {
            "tags": []
          },
          "execution_count": 19
        }
      ]
    },
    {
      "cell_type": "markdown",
      "metadata": {
        "id": "5xB1ZVXJCf4j"
      },
      "source": [
        "But don't forget the quotation marks.  If you write something like this:"
      ]
    },
    {
      "cell_type": "code",
      "metadata": {
        "id": "DDMVixzxCf4j",
        "outputId": "c3413458-7eba-414a-ed4b-0218a962087e",
        "colab": {
          "base_uri": "https://localhost:8080/",
          "height": 174
        }
      },
      "source": [
        "d[two]"
      ],
      "execution_count": null,
      "outputs": [
        {
          "output_type": "error",
          "ename": "NameError",
          "evalue": "ignored",
          "traceback": [
            "\u001b[0;31m---------------------------------------------------------------------------\u001b[0m",
            "\u001b[0;31mNameError\u001b[0m                                 Traceback (most recent call last)",
            "\u001b[0;32m<ipython-input-20-59afea98a974>\u001b[0m in \u001b[0;36m<module>\u001b[0;34m()\u001b[0m\n\u001b[0;32m----> 1\u001b[0;31m \u001b[0md\u001b[0m\u001b[0;34m[\u001b[0m\u001b[0mtwo\u001b[0m\u001b[0;34m]\u001b[0m\u001b[0;34m\u001b[0m\u001b[0;34m\u001b[0m\u001b[0m\n\u001b[0m",
            "\u001b[0;31mNameError\u001b[0m: name 'two' is not defined"
          ]
        }
      ]
    },
    {
      "cell_type": "markdown",
      "metadata": {
        "id": "W9eJ-WbKCf4m"
      },
      "source": [
        "Python looks for a variable named `two` and doesn't find one."
      ]
    },
    {
      "cell_type": "markdown",
      "metadata": {
        "id": "1ZT6wtLkCf4m"
      },
      "source": [
        "To check whether a particular key is in a dictionary, you can use the special word `in`:"
      ]
    },
    {
      "cell_type": "code",
      "metadata": {
        "id": "_XeZGybTCf4n",
        "outputId": "07f4cccf-d16b-4557-d4c3-5926337c17bf",
        "colab": {
          "base_uri": "https://localhost:8080/",
          "height": 36
        }
      },
      "source": [
        "'one' in d"
      ],
      "execution_count": null,
      "outputs": [
        {
          "output_type": "execute_result",
          "data": {
            "text/plain": [
              "True"
            ]
          },
          "metadata": {
            "tags": []
          },
          "execution_count": 21
        }
      ]
    },
    {
      "cell_type": "code",
      "metadata": {
        "id": "3RPXWkTOCf4p",
        "outputId": "5d68ada2-9ca3-4e69-fffb-d23f80efc95c",
        "colab": {
          "base_uri": "https://localhost:8080/",
          "height": 36
        }
      },
      "source": [
        "'zero' in d"
      ],
      "execution_count": null,
      "outputs": [
        {
          "output_type": "execute_result",
          "data": {
            "text/plain": [
              "False"
            ]
          },
          "metadata": {
            "tags": []
          },
          "execution_count": 22
        }
      ]
    },
    {
      "cell_type": "markdown",
      "metadata": {
        "id": "xY2Fqk02Cf4r"
      },
      "source": [
        "The word `in` is actually an operator in Python, so you can't use it as a variable name:"
      ]
    },
    {
      "cell_type": "code",
      "metadata": {
        "id": "BhAE-9VoCf4s",
        "outputId": "382a41ca-f185-41b2-c437-56d631977521",
        "colab": {
          "base_uri": "https://localhost:8080/",
          "height": 136
        }
      },
      "source": [
        "in = 5"
      ],
      "execution_count": null,
      "outputs": [
        {
          "output_type": "error",
          "ename": "SyntaxError",
          "evalue": "ignored",
          "traceback": [
            "\u001b[0;36m  File \u001b[0;32m\"<ipython-input-23-0e0c90d245a5>\"\u001b[0;36m, line \u001b[0;32m1\u001b[0m\n\u001b[0;31m    in = 5\u001b[0m\n\u001b[0m     ^\u001b[0m\n\u001b[0;31mSyntaxError\u001b[0m\u001b[0;31m:\u001b[0m invalid syntax\n"
          ]
        }
      ]
    },
    {
      "cell_type": "markdown",
      "metadata": {
        "id": "vSYeRsV5Cf4u"
      },
      "source": [
        "If a key is already in a dictionary, adding it again has no effect:"
      ]
    },
    {
      "cell_type": "code",
      "metadata": {
        "id": "i4qkg1HeCf4u",
        "outputId": "3a11663d-3e2f-42cf-b8f1-119a5ec0a528",
        "colab": {
          "base_uri": "https://localhost:8080/",
          "height": 36
        }
      },
      "source": [
        "d"
      ],
      "execution_count": null,
      "outputs": [
        {
          "output_type": "execute_result",
          "data": {
            "text/plain": [
              "{'one': 1, 'three': 3, 'two': 2}"
            ]
          },
          "metadata": {
            "tags": []
          },
          "execution_count": 24
        }
      ]
    },
    {
      "cell_type": "code",
      "metadata": {
        "id": "TwF1o1sJCf4x",
        "outputId": "040922d2-57b4-45ae-b47a-9f67d5dd3a3b",
        "colab": {
          "base_uri": "https://localhost:8080/",
          "height": 36
        }
      },
      "source": [
        "d['one'] = 1\n",
        "d"
      ],
      "execution_count": null,
      "outputs": [
        {
          "output_type": "execute_result",
          "data": {
            "text/plain": [
              "{'one': 1, 'three': 3, 'two': 2}"
            ]
          },
          "metadata": {
            "tags": []
          },
          "execution_count": 25
        }
      ]
    },
    {
      "cell_type": "markdown",
      "metadata": {
        "id": "YiMAoZnWCf4z"
      },
      "source": [
        "But you can also change the value associated with a key:"
      ]
    },
    {
      "cell_type": "code",
      "metadata": {
        "id": "t8_nRmd0Cf40",
        "outputId": "5fefaebc-871c-465b-b24a-caabb1d5f639",
        "colab": {
          "base_uri": "https://localhost:8080/",
          "height": 36
        }
      },
      "source": [
        "d['one'] = 100\n",
        "d"
      ],
      "execution_count": null,
      "outputs": [
        {
          "output_type": "execute_result",
          "data": {
            "text/plain": [
              "{'one': 100, 'three': 3, 'two': 2}"
            ]
          },
          "metadata": {
            "tags": []
          },
          "execution_count": 26
        }
      ]
    },
    {
      "cell_type": "markdown",
      "metadata": {
        "id": "thlpzdZICf42"
      },
      "source": [
        "You can loop through the keys in a dictionary like this:"
      ]
    },
    {
      "cell_type": "code",
      "metadata": {
        "id": "YM_kqug1Cf42",
        "outputId": "4a828f18-8138-467e-c91a-0ab86ddb4052",
        "colab": {
          "base_uri": "https://localhost:8080/",
          "height": 73
        }
      },
      "source": [
        "for key in d:\n",
        "    print(key)"
      ],
      "execution_count": null,
      "outputs": [
        {
          "output_type": "stream",
          "text": [
            "one\n",
            "two\n",
            "three\n"
          ],
          "name": "stdout"
        }
      ]
    },
    {
      "cell_type": "markdown",
      "metadata": {
        "id": "BMdkW2lQCf45"
      },
      "source": [
        "If you want the keys and the values, a simple way to get them is to loop through the keys and look up the values:"
      ]
    },
    {
      "cell_type": "code",
      "metadata": {
        "id": "PUBe6C86Cf46",
        "outputId": "b56a261e-83e7-4a7e-90da-9193a487649c",
        "colab": {
          "base_uri": "https://localhost:8080/",
          "height": 73
        }
      },
      "source": [
        "for key in d:\n",
        "    print(key, d[key])"
      ],
      "execution_count": null,
      "outputs": [
        {
          "output_type": "stream",
          "text": [
            "one 100\n",
            "two 2\n",
            "three 3\n"
          ],
          "name": "stdout"
        }
      ]
    },
    {
      "cell_type": "markdown",
      "metadata": {
        "id": "q24pS1WkCf48"
      },
      "source": [
        "Or you can loop through both at the same time, like this:"
      ]
    },
    {
      "cell_type": "code",
      "metadata": {
        "id": "D_wlNiMaCf49",
        "outputId": "09bd7a5f-cf3f-4309-efec-89ea87cef5e3",
        "colab": {
          "base_uri": "https://localhost:8080/",
          "height": 73
        }
      },
      "source": [
        "for key, value in d.items():\n",
        "    print(key, value)"
      ],
      "execution_count": null,
      "outputs": [
        {
          "output_type": "stream",
          "text": [
            "one 100\n",
            "two 2\n",
            "three 3\n"
          ],
          "name": "stdout"
        }
      ]
    },
    {
      "cell_type": "markdown",
      "metadata": {
        "id": "GmmSKuZRCf4_"
      },
      "source": [
        "The `items` method loops through the key-value pairs in the dictionary; each time through the loop, they are assigned to `key` and `value`."
      ]
    },
    {
      "cell_type": "markdown",
      "metadata": {
        "id": "Zb281BHgCf5A"
      },
      "source": [
        "**Exercise:** Make a dictionary with the numbers `1`, `2`, and `3` as keys and strings as values.  The strings should be the numbers \"one\", \"two\", and \"three\" in any language you know.\n",
        "\n",
        "Write a loop that prints just the values from the dictionary."
      ]
    },
    {
      "cell_type": "code",
      "metadata": {
        "id": "mcVWaCnjCf5A",
        "outputId": "fb432826-747e-4173-bacd-caa30de2447e",
        "colab": {
          "base_uri": "https://localhost:8080/",
          "height": 36
        }
      },
      "source": [
        "d_ex = {1: 'bir', 2:'iki', 3:'üç'}\n",
        "d_ex"
      ],
      "execution_count": null,
      "outputs": [
        {
          "output_type": "execute_result",
          "data": {
            "text/plain": [
              "{1: 'bir', 2: 'iki', 3: 'üç'}"
            ]
          },
          "metadata": {
            "tags": []
          },
          "execution_count": 31
        }
      ]
    },
    {
      "cell_type": "code",
      "metadata": {
        "id": "_7E7K3AqCf5D",
        "outputId": "72418a65-8543-47ab-f6af-956fc9648548",
        "colab": {
          "base_uri": "https://localhost:8080/",
          "height": 73
        }
      },
      "source": [
        "for key in d_ex:\n",
        "  print(d_ex[key])"
      ],
      "execution_count": null,
      "outputs": [
        {
          "output_type": "stream",
          "text": [
            "bir\n",
            "iki\n",
            "üç\n"
          ],
          "name": "stdout"
        }
      ]
    },
    {
      "cell_type": "markdown",
      "metadata": {
        "id": "nPUSzjPkCf5F"
      },
      "source": [
        "## Unique words\n",
        "\n",
        "In the previous notebook we downloaded *War and Peace* from [Project Gutenberg](https://www.gutenberg.org) and counted the number of lines and words.\n",
        "\n",
        "Now that we have dictionaries, we can also count the number of unique words and the number of times each one appears.\n",
        "\n",
        "First, let's download the book again.  If you run the following cell, it checks to see whether you already have a file named `2600-0.txt`; if not, it uses `wget` to copy the file from Project Gutenberg to your computer.  "
      ]
    },
    {
      "cell_type": "code",
      "metadata": {
        "id": "cp2Wu1rhCf5G",
        "outputId": "aa98b862-776d-492d-91fd-ff4c5546861c",
        "colab": {
          "base_uri": "https://localhost:8080/",
          "height": 223
        }
      },
      "source": [
        "import os\n",
        "\n",
        "if not os.path.exists('2600-0.txt'):\n",
        "    !wget https://www.gutenberg.org/files/2600/2600-0.txt"
      ],
      "execution_count": null,
      "outputs": [
        {
          "output_type": "stream",
          "text": [
            "--2020-09-22 23:04:50--  https://www.gutenberg.org/files/2600/2600-0.txt\n",
            "Resolving www.gutenberg.org (www.gutenberg.org)... 152.19.134.47, 2610:28:3090:3000:0:bad:cafe:47\n",
            "Connecting to www.gutenberg.org (www.gutenberg.org)|152.19.134.47|:443... connected.\n",
            "HTTP request sent, awaiting response... 200 OK\n",
            "Length: 3359584 (3.2M) [text/plain]\n",
            "Saving to: ‘2600-0.txt’\n",
            "\n",
            "2600-0.txt          100%[===================>]   3.20M  1.47MB/s    in 2.2s    \n",
            "\n",
            "2020-09-22 23:04:53 (1.47 MB/s) - ‘2600-0.txt’ saved [3359584/3359584]\n",
            "\n"
          ],
          "name": "stdout"
        }
      ]
    },
    {
      "cell_type": "markdown",
      "metadata": {
        "id": "ImGn_RHCCf5J"
      },
      "source": [
        "Now we can read the file and count the words as we did in the previous notebook:"
      ]
    },
    {
      "cell_type": "code",
      "metadata": {
        "id": "XJKzMb6UCf5J",
        "outputId": "e9c38e19-4887-4f38-9dc6-6e206cfb3f57",
        "colab": {
          "base_uri": "https://localhost:8080/",
          "height": 36
        }
      },
      "source": [
        "fp = open('2600-0.txt')\n",
        "count = 0\n",
        "for line in fp:\n",
        "    count += len(line.split())\n",
        "    \n",
        "count"
      ],
      "execution_count": null,
      "outputs": [
        {
          "output_type": "execute_result",
          "data": {
            "text/plain": [
              "566317"
            ]
          },
          "metadata": {
            "tags": []
          },
          "execution_count": 34
        }
      ]
    },
    {
      "cell_type": "markdown",
      "metadata": {
        "id": "jsBS-YUxCf5L"
      },
      "source": [
        "To count the number of unique words, I'll loop through the words in each line and add as keys in a dictionary:"
      ]
    },
    {
      "cell_type": "code",
      "metadata": {
        "id": "izyKAn_VCf5M"
      },
      "source": [
        "fp = open('2600-0.txt')\n",
        "unique_words = {}\n",
        "for line in fp:\n",
        "    for word in line.split():\n",
        "        unique_words[word] = 1"
      ],
      "execution_count": null,
      "outputs": []
    },
    {
      "cell_type": "markdown",
      "metadata": {
        "id": "SUlB3yfHCf5O"
      },
      "source": [
        "This is the first example we've seen with one loop inside another.\n",
        "\n",
        "* The outer loop runs through the lines in the file.\n",
        "\n",
        "* The inner loops runs through the words in each line.\n",
        "\n",
        "Each time through the inner loop, we add a word as a key in the dictionary, with the value 1.  If the same word appears more than once, it gets added to the dictionary again, which has no effect.  So the dictionary contains only one copy of each unique word in the file.\n",
        "\n",
        "At the end of the loop, we can display the first 10 keys:"
      ]
    },
    {
      "cell_type": "code",
      "metadata": {
        "id": "vbcFyt61Cf5P",
        "outputId": "0b624817-1552-4226-9242-7a5172f1f071",
        "colab": {
          "base_uri": "https://localhost:8080/",
          "height": 204
        }
      },
      "source": [
        "i = 0\n",
        "for key in unique_words:\n",
        "    print(key)\n",
        "    i += 1\n",
        "    if i == 10:\n",
        "        break"
      ],
      "execution_count": null,
      "outputs": [
        {
          "output_type": "stream",
          "text": [
            "﻿\n",
            "The\n",
            "Project\n",
            "Gutenberg\n",
            "EBook\n",
            "of\n",
            "War\n",
            "and\n",
            "Peace,\n",
            "by\n"
          ],
          "name": "stdout"
        }
      ]
    },
    {
      "cell_type": "markdown",
      "metadata": {
        "id": "FOX_Ner_Cf5R"
      },
      "source": [
        "So far, it looks like all the words in the file, in order.\n",
        "\n",
        "But each word only appears once, so the number of keys is the number of unique words:"
      ]
    },
    {
      "cell_type": "code",
      "metadata": {
        "id": "XVWnJQtfCf5R",
        "outputId": "c59ef700-6799-4b67-ce4a-8f27789d5d16",
        "colab": {
          "base_uri": "https://localhost:8080/",
          "height": 36
        }
      },
      "source": [
        "len(unique_words)"
      ],
      "execution_count": null,
      "outputs": [
        {
          "output_type": "execute_result",
          "data": {
            "text/plain": [
              "41991"
            ]
          },
          "metadata": {
            "tags": []
          },
          "execution_count": 37
        }
      ]
    },
    {
      "cell_type": "markdown",
      "metadata": {
        "id": "oX-ZLXbMCf5U"
      },
      "source": [
        "It looks like there are about 42,000 different words in the book, which is substantially less than the total number of words, about 560,000. \n",
        "\n",
        "But that's not quite right, because we have not taken into account capitalization and punctuation."
      ]
    },
    {
      "cell_type": "markdown",
      "metadata": {
        "id": "59LkaDi7Cf5U"
      },
      "source": [
        "**Exercise:** Before we deal with those problems, let's practice with \"nested loops\", that is, one loop inside another.\n",
        "\n",
        "Suppose you have a list of words, like this:"
      ]
    },
    {
      "cell_type": "code",
      "metadata": {
        "id": "VV2tsiSRCf5U"
      },
      "source": [
        "line = ['War', 'and', 'Peace']"
      ],
      "execution_count": null,
      "outputs": []
    },
    {
      "cell_type": "markdown",
      "metadata": {
        "id": "u2S2rexOCf5X"
      },
      "source": [
        "Write a nested loop that iterates through each word in the list, and each letter in each word, and prints the letters on separate lines."
      ]
    },
    {
      "cell_type": "code",
      "metadata": {
        "id": "_esFxRggCf5Y"
      },
      "source": [
        "# Solution goes here"
      ],
      "execution_count": null,
      "outputs": []
    },
    {
      "cell_type": "markdown",
      "metadata": {
        "id": "k_6cAvCmCf5b"
      },
      "source": [
        "## Capitalization\n",
        "\n",
        "When we count unique words, we probably want to treat `The` and `the` as the same word.  We can do that by converting all words to lower case, using the `lower` function:"
      ]
    },
    {
      "cell_type": "code",
      "metadata": {
        "id": "OLY6RGKwCf5c",
        "outputId": "eaf0adfc-c62e-4000-d63b-5d1b8fc5647a",
        "colab": {
          "base_uri": "https://localhost:8080/",
          "height": 37
        }
      },
      "source": [
        "word = 'The'\n",
        "word.lower()"
      ],
      "execution_count": null,
      "outputs": [
        {
          "output_type": "execute_result",
          "data": {
            "application/vnd.google.colaboratory.intrinsic+json": {
              "type": "string"
            },
            "text/plain": [
              "'the'"
            ]
          },
          "metadata": {
            "tags": []
          },
          "execution_count": 40
        }
      ]
    },
    {
      "cell_type": "code",
      "metadata": {
        "id": "Uu2LnpeiCf5f",
        "outputId": "b31f95bd-1c06-4520-f318-649e23ff4693",
        "colab": {
          "base_uri": "https://localhost:8080/",
          "height": 37
        }
      },
      "source": [
        "word = 'the'\n",
        "word.lower()"
      ],
      "execution_count": null,
      "outputs": [
        {
          "output_type": "execute_result",
          "data": {
            "application/vnd.google.colaboratory.intrinsic+json": {
              "type": "string"
            },
            "text/plain": [
              "'the'"
            ]
          },
          "metadata": {
            "tags": []
          },
          "execution_count": 41
        }
      ]
    },
    {
      "cell_type": "markdown",
      "metadata": {
        "id": "WxUiAOalCf5j"
      },
      "source": [
        "`lower` creates a new string; it does not modify the original string.  "
      ]
    },
    {
      "cell_type": "code",
      "metadata": {
        "id": "gtJVZHCbCf5k",
        "outputId": "a6001235-9952-4d29-cbca-a0fed0dc9406",
        "colab": {
          "base_uri": "https://localhost:8080/",
          "height": 37
        }
      },
      "source": [
        "word = 'THE'\n",
        "word.lower()"
      ],
      "execution_count": null,
      "outputs": [
        {
          "output_type": "execute_result",
          "data": {
            "application/vnd.google.colaboratory.intrinsic+json": {
              "type": "string"
            },
            "text/plain": [
              "'the'"
            ]
          },
          "metadata": {
            "tags": []
          },
          "execution_count": 42
        }
      ]
    },
    {
      "cell_type": "code",
      "metadata": {
        "id": "eHkjx67pCf5m",
        "outputId": "f67bda63-763d-4694-f536-9a5be07e4f9f",
        "colab": {
          "base_uri": "https://localhost:8080/",
          "height": 37
        }
      },
      "source": [
        "word"
      ],
      "execution_count": null,
      "outputs": [
        {
          "output_type": "execute_result",
          "data": {
            "application/vnd.google.colaboratory.intrinsic+json": {
              "type": "string"
            },
            "text/plain": [
              "'THE'"
            ]
          },
          "metadata": {
            "tags": []
          },
          "execution_count": 43
        }
      ]
    },
    {
      "cell_type": "markdown",
      "metadata": {
        "id": "OBVSKepzCf5p"
      },
      "source": [
        "However, you can assign the new string back to the existing variable, like this:"
      ]
    },
    {
      "cell_type": "code",
      "metadata": {
        "id": "bjDiJZ4dCf5p"
      },
      "source": [
        "word = 'THE'\n",
        "word = word.lower()"
      ],
      "execution_count": null,
      "outputs": []
    },
    {
      "cell_type": "markdown",
      "metadata": {
        "id": "QXpXiy1iCf5s"
      },
      "source": [
        "Now if we can display the new value of `word`, we get the lowercase version:"
      ]
    },
    {
      "cell_type": "code",
      "metadata": {
        "id": "O2KKocCMCf5s",
        "outputId": "7b41990c-f74c-4048-aa02-643bdffb9559",
        "colab": {
          "base_uri": "https://localhost:8080/",
          "height": 37
        }
      },
      "source": [
        "word"
      ],
      "execution_count": null,
      "outputs": [
        {
          "output_type": "execute_result",
          "data": {
            "application/vnd.google.colaboratory.intrinsic+json": {
              "type": "string"
            },
            "text/plain": [
              "'the'"
            ]
          },
          "metadata": {
            "tags": []
          },
          "execution_count": 45
        }
      ]
    },
    {
      "cell_type": "markdown",
      "metadata": {
        "id": "CqasTTetCf5u"
      },
      "source": [
        "**Exercise:** Modify the previous loop so it makes a lowercase version of each word before adding it to the dictionary.  How many unique words are there, if we ignore the difference between uppercase and lowercase?"
      ]
    },
    {
      "cell_type": "code",
      "metadata": {
        "id": "3xdVIRTNCf5v"
      },
      "source": [
        "fp = open('2600-0.txt')\n",
        "unique_words_no_cases = {}\n",
        "for line in fp:\n",
        "    for word in line.split():\n",
        "        lower_case_word = word.lower()\n",
        "        unique_words_no_cases[lower_case_word] = 1"
      ],
      "execution_count": null,
      "outputs": []
    },
    {
      "cell_type": "code",
      "metadata": {
        "id": "JONpk5uYElCz",
        "outputId": "f827069d-4ac3-48ec-f714-c3f96ff50680",
        "colab": {
          "base_uri": "https://localhost:8080/",
          "height": 36
        }
      },
      "source": [
        "len(unique_words) - len(unique_words_no_cases)"
      ],
      "execution_count": null,
      "outputs": [
        {
          "output_type": "execute_result",
          "data": {
            "text/plain": [
              "1860"
            ]
          },
          "metadata": {
            "tags": []
          },
          "execution_count": 49
        }
      ]
    },
    {
      "cell_type": "markdown",
      "metadata": {
        "id": "PNHdMqQzCf5y"
      },
      "source": [
        "## Punctuation\n",
        "\n",
        "To remove punctuation from the words, we can use `strip`, which removes specified characters from the beginning and end of a string.  Here's an example:"
      ]
    },
    {
      "cell_type": "code",
      "metadata": {
        "id": "pf8vGO5MCf5y"
      },
      "source": [
        "word = 'abracadabra'\n",
        "word.strip('ab')"
      ],
      "execution_count": null,
      "outputs": []
    },
    {
      "cell_type": "markdown",
      "metadata": {
        "id": "r8BQ7ENuCf50"
      },
      "source": [
        "In this example, `strip` removes all instances of `a` and `b` from the beginning and end of the word, but not from the middle.\n",
        "\n",
        "But note that it makes a new word; it doesn't modify the original:"
      ]
    },
    {
      "cell_type": "code",
      "metadata": {
        "id": "A8TScUxTCf51"
      },
      "source": [
        "word"
      ],
      "execution_count": null,
      "outputs": []
    },
    {
      "cell_type": "markdown",
      "metadata": {
        "id": "OlmJtFaZCf52"
      },
      "source": [
        "To remove punctuation, we can use the `string` library, which provides a variable named `punctuation`."
      ]
    },
    {
      "cell_type": "code",
      "metadata": {
        "id": "aaj7A6yXCf53"
      },
      "source": [
        "import string\n",
        "\n",
        "string.punctuation"
      ],
      "execution_count": null,
      "outputs": []
    },
    {
      "cell_type": "markdown",
      "metadata": {
        "id": "KcVga-wZCf56"
      },
      "source": [
        "`string.punctuation` contains the most common punctuation marks, but as we'll see, not all of them.\n",
        "\n",
        "Nevertheless, we can use it to handle most cases.  Here's an example:"
      ]
    },
    {
      "cell_type": "code",
      "metadata": {
        "id": "R2pSKpt0Cf57"
      },
      "source": [
        "line = \"It's not given to people to judge what's right or wrong.\"\n",
        "\n",
        "for word in line.split():\n",
        "    word = word.strip(string.punctuation)\n",
        "    print(word)"
      ],
      "execution_count": null,
      "outputs": []
    },
    {
      "cell_type": "markdown",
      "metadata": {
        "id": "zu6REuP_Cf5_"
      },
      "source": [
        "Notice that `strip` does not remove the apostrophe from the middle of `don't`, which is probably what we want.\n",
        "\n",
        "To see how well it works, I'll select an arbitrary line from the file:"
      ]
    },
    {
      "cell_type": "code",
      "metadata": {
        "id": "A044NrqACf5_"
      },
      "source": [
        "fp = open('2600-0.txt')\n",
        "count = 0\n",
        "for line in fp:\n",
        "    if count == 1000:\n",
        "        break\n",
        "    count += 1\n",
        "    \n",
        "line"
      ],
      "execution_count": null,
      "outputs": []
    },
    {
      "cell_type": "markdown",
      "metadata": {
        "id": "ZCmUWEI_Cf6B"
      },
      "source": [
        "And try to remove punctuation from the words:"
      ]
    },
    {
      "cell_type": "code",
      "metadata": {
        "id": "ZDma3X7wCf6C"
      },
      "source": [
        "for word in line.split():\n",
        "    word = word.strip(string.punctuation)\n",
        "    print(word)"
      ],
      "execution_count": null,
      "outputs": []
    },
    {
      "cell_type": "markdown",
      "metadata": {
        "id": "5kPmKRYOCf6E"
      },
      "source": [
        "It words pretty well, but the last word is a problem because it ends with a quotation mark that is not in `string.punctuation`.  To fix this problem, we'll use the following loop, which\n",
        "\n",
        "1. Reads the file and builds a dictionary that contains all punctuation marks that appear in the book, then\n",
        "\n",
        "2. It uses the `join` function to concatenate the keys of the dictionary in a single string.\n",
        "\n",
        "You don't have to understand everything about how it works, but you should read it and see how much you can figure out.  You can read [the documentation of the `unicodedata` library here](https://docs.python.org/3/library/unicodedata.html)."
      ]
    },
    {
      "cell_type": "code",
      "metadata": {
        "id": "QrZzbrb_Cf6E"
      },
      "source": [
        "import unicodedata\n",
        "\n",
        "fp = open('2600-0.txt')\n",
        "punc_marks = {}\n",
        "for line in fp:\n",
        "    for x in line:\n",
        "        category = unicodedata.category(x)\n",
        "        if category[0] == 'P':\n",
        "            punc_marks[x] = 1\n",
        "        \n",
        "all_punctuation = ''.join(punc_marks)\n",
        "print(all_punctuation)"
      ],
      "execution_count": null,
      "outputs": []
    },
    {
      "cell_type": "markdown",
      "metadata": {
        "id": "kH_STts-Cf6G"
      },
      "source": [
        "**Exercise:** Modify the word-counting loop from the previous section to convert words to lower case *and* strip punctuation before adding them to the dictionary.  Now how many unique words are there?\n",
        "\n",
        "Optional: You might want to skip over the frontmatter and start with the text of Chapter 1, and skip over the license at the end, as we did in the previous notebook."
      ]
    },
    {
      "cell_type": "code",
      "metadata": {
        "id": "BvNkRefcCf6G"
      },
      "source": [
        "# Solution goes here"
      ],
      "execution_count": null,
      "outputs": []
    },
    {
      "cell_type": "markdown",
      "metadata": {
        "id": "hmK93EI6Cf6I"
      },
      "source": [
        "## Word frequencies\n",
        "\n",
        "In the previous section we counted the number of unique words, but we might also want to know how often each word appears.  Then we can find the most common and least common words in the book.\n",
        "\n",
        "To count the frequency of each word, we'll make a dictionary that maps from each word to the number of times it appears.\n",
        "\n",
        "Here's an example that loops through a string and counts the number of times each letter appears."
      ]
    },
    {
      "cell_type": "code",
      "metadata": {
        "id": "BXxSYW1QCf6I"
      },
      "source": [
        "line = 'If everyone fought for their own convictions there would be no war.'\n",
        "\n",
        "letter_counts = {}\n",
        "for x in line:\n",
        "    if x in letter_counts:\n",
        "        letter_counts[x] += 1\n",
        "    else:\n",
        "        letter_counts[x] = 1\n",
        "        \n",
        "letter_counts"
      ],
      "execution_count": null,
      "outputs": []
    },
    {
      "cell_type": "markdown",
      "metadata": {
        "id": "4VS5OJLoCf6K"
      },
      "source": [
        "The `if` statement in the previous example uses a feature we have not seen before, an `else` clause.\n",
        "\n",
        "Here's how it works.\n",
        "\n",
        "1. First, it checks whether the letter is already a key in the dictionary, `letter_counts`.\n",
        "\n",
        "2. If so, it runs the first statement, `letter_counts[x] += 1`, which increments the value associated with the letter, `x`.\n",
        "\n",
        "3. Otherwise, it runs the second statement, `letter_counts[x] = 1`, which adds `x` as a new key, with the value `1` indicating that we have seen the new letter once.\n",
        "\n",
        "The result is a dictionary that maps from each letter to the number of times it appears."
      ]
    },
    {
      "cell_type": "markdown",
      "metadata": {
        "id": "S4AgEid-Cf6K"
      },
      "source": [
        "To get the most common letters, we can use a `Counter`, which is similar to a dictionary.  To use it, we have to import a library called `collections`: "
      ]
    },
    {
      "cell_type": "code",
      "metadata": {
        "id": "AfAmEU7kCf6L"
      },
      "source": [
        "import collections"
      ],
      "execution_count": null,
      "outputs": []
    },
    {
      "cell_type": "markdown",
      "metadata": {
        "id": "CEuxSzrwCf6M"
      },
      "source": [
        "Then we use `collections.Counter` as a function to convert the dictionary to a `Counter` value:"
      ]
    },
    {
      "cell_type": "code",
      "metadata": {
        "id": "WwtHZnAqCf6N"
      },
      "source": [
        "counter = collections.Counter(letter_counts)\n",
        "type(counter)"
      ],
      "execution_count": null,
      "outputs": []
    },
    {
      "cell_type": "markdown",
      "metadata": {
        "id": "QHefJQzVCf6O"
      },
      "source": [
        "`Counter` provides a function called `most_common` we can use to get the most common characters:"
      ]
    },
    {
      "cell_type": "code",
      "metadata": {
        "id": "HVgIz_86Cf6P"
      },
      "source": [
        "counter.most_common(3)"
      ],
      "execution_count": null,
      "outputs": []
    },
    {
      "cell_type": "markdown",
      "metadata": {
        "id": "qOz3Ep3ECf6R"
      },
      "source": [
        "The result is a list of tuples, where each tuple contains a character and an integer.\n",
        "\n",
        "The most common character is a space, followed by `o` and `e`."
      ]
    },
    {
      "cell_type": "markdown",
      "metadata": {
        "id": "fgkQ80BsCf6R"
      },
      "source": [
        "**Exercise:** Modify the loop from the previous exercise to count the frequency of the words in *War and Peace*; then print the 20 most common words and the number of times each one appears."
      ]
    },
    {
      "cell_type": "code",
      "metadata": {
        "id": "O_FCZ1-CCf6R"
      },
      "source": [
        "# Solution goes here"
      ],
      "execution_count": null,
      "outputs": []
    },
    {
      "cell_type": "markdown",
      "metadata": {
        "id": "XGDYZwqFCf6T"
      },
      "source": [
        "**Exercise:** You can run `most_common` with no value in parentheses, like this:\n",
        "\n",
        "```\n",
        "word_freq_pairs = counter.most_common()\n",
        "```\n",
        "\n",
        "The result is a list of tuples, with one tuple for every unique word in the book.  Assign the result to a variable so it doesn't get displayed.  Then answer the following questions:\n",
        "\n",
        "1. How many times does the #1 ranked word appear (that is, the first element of the list)?\n",
        "\n",
        "2. How many times does the #10 ranked word appear?\n",
        "\n",
        "3. How many times does the #100 ranked word appear?\n",
        "\n",
        "4. How many times does the #1000 ranked word appear?\n",
        "\n",
        "5. How many times does the #10000 ranked word appear?\n",
        "\n",
        "Do you see a pattern in the results?  We will explore this pattern more in the next notebook."
      ]
    },
    {
      "cell_type": "code",
      "metadata": {
        "id": "1_Wmq4NmCf6T"
      },
      "source": [
        "# Solution goes here"
      ],
      "execution_count": null,
      "outputs": []
    },
    {
      "cell_type": "code",
      "metadata": {
        "id": "zA64Pww4Cf6U"
      },
      "source": [
        "# Solution goes here"
      ],
      "execution_count": null,
      "outputs": []
    },
    {
      "cell_type": "code",
      "metadata": {
        "id": "NS3t71suCf6W"
      },
      "source": [
        "# Solution goes here"
      ],
      "execution_count": null,
      "outputs": []
    },
    {
      "cell_type": "code",
      "metadata": {
        "id": "7FdyguvlCf6X"
      },
      "source": [
        "# Solution goes here"
      ],
      "execution_count": null,
      "outputs": []
    },
    {
      "cell_type": "code",
      "metadata": {
        "id": "lABCmq7fCf6Z"
      },
      "source": [
        "# Solution goes here"
      ],
      "execution_count": null,
      "outputs": []
    },
    {
      "cell_type": "markdown",
      "metadata": {
        "id": "LjG0Hn9FCf6b"
      },
      "source": [
        "**Exercise:** Write a loop that counts how many words appear 200 times.  What are they?  How many words appear 100 times, 50 times, and 20 times?\n",
        "\n",
        "**Optional:** If you know how to define a function, write a function that takes a `Counter` and a frequency as arguments, prints all words with that frequency, and returns the number of words with that frequency."
      ]
    },
    {
      "cell_type": "code",
      "metadata": {
        "id": "zpqeO9YMCf6b"
      },
      "source": [
        "# Solution goes here"
      ],
      "execution_count": null,
      "outputs": []
    },
    {
      "cell_type": "code",
      "metadata": {
        "id": "18XzluOiCf6g"
      },
      "source": [
        "# Solution goes here"
      ],
      "execution_count": null,
      "outputs": []
    },
    {
      "cell_type": "code",
      "metadata": {
        "id": "9Y3y2TwKCf6h"
      },
      "source": [
        "# Solution goes here"
      ],
      "execution_count": null,
      "outputs": []
    },
    {
      "cell_type": "code",
      "metadata": {
        "id": "z0NFuLiaCf6i"
      },
      "source": [
        "# Solution goes here"
      ],
      "execution_count": null,
      "outputs": []
    },
    {
      "cell_type": "code",
      "metadata": {
        "id": "83gdOFYnCf6k"
      },
      "source": [
        "# Solution goes here"
      ],
      "execution_count": null,
      "outputs": []
    },
    {
      "cell_type": "code",
      "metadata": {
        "id": "gBuZXklcCf6m"
      },
      "source": [
        ""
      ],
      "execution_count": null,
      "outputs": []
    }
  ]
}